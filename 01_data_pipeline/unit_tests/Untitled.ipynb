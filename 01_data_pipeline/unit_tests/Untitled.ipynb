{
 "cells": [
  {
   "cell_type": "code",
   "execution_count": null,
   "id": "583116a2",
   "metadata": {},
   "outputs": [],
   "source": [
    "%cd /home/"
   ]
  },
  {
   "cell_type": "code",
   "execution_count": 1,
   "id": "4ebc9004",
   "metadata": {},
   "outputs": [
    {
     "data": {
      "text/plain": [
       "'c:\\\\Users\\\\mmadishetty\\\\Downloads\\\\Course\\\\Semester 3\\\\MLOps\\\\Assignment\\\\Assignment\\\\01_data_pipeline\\\\unit_tests'"
      ]
     },
     "execution_count": 1,
     "metadata": {},
     "output_type": "execute_result"
    }
   ],
   "source": [
    "%pwd"
   ]
  },
  {
   "cell_type": "code",
   "execution_count": 3,
   "id": "58bccaf7",
   "metadata": {},
   "outputs": [
    {
     "name": "stdout",
     "output_type": "stream",
     "text": [
      "c:\\Users\\mmadishetty\\Downloads\\Course\\Semester 3\\MLOps\\Assignment\\Assignment\\01_data_pipeline\n"
     ]
    },
    {
     "data": {
      "text/plain": [
       "'c:\\\\Users\\\\mmadishetty\\\\Downloads\\\\Course\\\\Semester 3\\\\MLOps\\\\Assignment\\\\Assignment\\\\01_data_pipeline'"
      ]
     },
     "execution_count": 3,
     "metadata": {},
     "output_type": "execute_result"
    }
   ],
   "source": [
    "%cd ..\n",
    "%pwd"
   ]
  },
  {
   "cell_type": "code",
   "execution_count": 1,
   "id": "3dc67565",
   "metadata": {},
   "outputs": [],
   "source": [
    "\n",
    "import utils\n",
    "import constants\n",
    "import city_tier_mapping\n",
    "import significant_categorical_level"
   ]
  },
  {
   "cell_type": "code",
   "execution_count": 1,
   "id": "7979a7b4",
   "metadata": {},
   "outputs": [
    {
     "name": "stdout",
     "output_type": "stream",
     "text": [
      "initiating db connection\n",
      "initiating unit test db connection\n",
      "Test passed\n",
      "initiating db connection\n",
      "initiating unit test db connection\n",
      "Test passed\n"
     ]
    }
   ],
   "source": [
    "import constants\n",
    "import utils\n",
    "import test_with_pytest\n",
    "import importlib\n",
    "importlib.reload(test_with_pytest)\n",
    "importlib.reload(utils)\n",
    "DB_FILE_NAME = constants.DB_FILE_NAME\n",
    "DB_PATH = constants.DB_PATH\n",
    "DATA_DIRECTORY = constants.DATA_DIRECTORY\n",
    "UNIT_TEST_DB_FILE_NAME = constants.UNIT_TEST_DB_FILE_NAME\n",
    "\n",
    "test_with_pytest.test_load_data_into_db(DB_FILE_NAME, DB_PATH, UNIT_TEST_DB_FILE_NAME)\n",
    "test_with_pytest.test_map_city_tier(DB_FILE_NAME, DB_PATH, UNIT_TEST_DB_FILE_NAME)\n"
   ]
  },
  {
   "cell_type": "code",
   "execution_count": 1,
   "id": "2079cfcc",
   "metadata": {},
   "outputs": [
    {
     "ename": "NameError",
     "evalue": "name 'city_tier_mapping' is not defined",
     "output_type": "error",
     "traceback": [
      "\u001b[1;31m---------------------------------------------------------------------------\u001b[0m",
      "\u001b[1;31mNameError\u001b[0m                                 Traceback (most recent call last)",
      "\u001b[1;32mC:\\Users\\MMADIS~1\\AppData\\Local\\Temp/ipykernel_13468/2333415850.py\u001b[0m in \u001b[0;36m<module>\u001b[1;34m\u001b[0m\n\u001b[1;32m----> 1\u001b[1;33m \u001b[0mcity_tier_mapping\u001b[0m \u001b[1;33m=\u001b[0m \u001b[0mcity_tier_mapping\u001b[0m\u001b[1;33m.\u001b[0m\u001b[0mcity_tier_mapping\u001b[0m\u001b[1;33m\u001b[0m\u001b[1;33m\u001b[0m\u001b[0m\n\u001b[0m\u001b[0;32m      2\u001b[0m \u001b[0mlist_platform\u001b[0m \u001b[1;33m=\u001b[0m \u001b[0msignificant_categorical_level\u001b[0m\u001b[1;33m.\u001b[0m\u001b[0mlist_platform\u001b[0m\u001b[1;33m\u001b[0m\u001b[1;33m\u001b[0m\u001b[0m\n\u001b[0;32m      3\u001b[0m \u001b[0mlist_medium\u001b[0m \u001b[1;33m=\u001b[0m \u001b[0msignificant_categorical_level\u001b[0m\u001b[1;33m.\u001b[0m\u001b[0mlist_medium\u001b[0m\u001b[1;33m\u001b[0m\u001b[1;33m\u001b[0m\u001b[0m\n\u001b[0;32m      4\u001b[0m \u001b[0mlist_source\u001b[0m \u001b[1;33m=\u001b[0m \u001b[0msignificant_categorical_level\u001b[0m\u001b[1;33m.\u001b[0m\u001b[0mlist_source\u001b[0m\u001b[1;33m\u001b[0m\u001b[1;33m\u001b[0m\u001b[0m\n\u001b[0;32m      5\u001b[0m \u001b[1;33m\u001b[0m\u001b[0m\n",
      "\u001b[1;31mNameError\u001b[0m: name 'city_tier_mapping' is not defined"
     ]
    }
   ],
   "source": [
    "city_tier_mapping = city_tier_mapping.city_tier_mapping\n",
    "list_platform = significant_categorical_level.list_platform\n",
    "list_medium = significant_categorical_level.list_medium\n",
    "list_source = significant_categorical_level.list_source\n",
    "\n",
    "INTERACTION_MAPPING = constants.INTERACTION_MAPPING\n",
    "INDEX_COLUMNS_TRAINING = constants.INDEX_COLUMNS_TRAINING\n",
    "INDEX_COLUMNS_INFERENCE = constants.INDEX_COLUMNS_INFERENCE\n",
    "NOT_FEATURES = constants.NOT_FEATURES\n",
    "print(\"running ---- map_city_tier -----\")\n",
    "utils.map_city_tier(DB_FILE_NAME, DB_PATH, city_tier_mapping)\n",
    "print(\"running ---- map_categorical_vars -----\")\n",
    "utils.map_categorical_vars(DB_FILE_NAME, DB_PATH ,list_platform ,list_medium ,list_source)\n",
    "print(\"running ---- interactions_mapping -----\")\n",
    "utils.interactions_mapping(DB_FILE_NAME, DB_PATH, INTERACTION_MAPPING, INDEX_COLUMNS_TRAINING, INDEX_COLUMNS_INFERENCE, NOT_FEATURES)"
   ]
  },
  {
   "cell_type": "code",
   "execution_count": 6,
   "id": "418c08fc",
   "metadata": {},
   "outputs": [
    {
     "name": "stdout",
     "output_type": "stream",
     "text": [
      "initiating db connection\n",
      "initiating unit test db connection\n"
     ]
    }
   ],
   "source": [
    "import constants\n",
    "import utils\n",
    "import test_with_pytest\n",
    "import city_tier_mapping\n",
    "import sqlite3\n",
    "import os\n",
    "import pandas as pd\n",
    "DB_FILE_NAME = constants.DB_FILE_NAME\n",
    "DB_PATH = constants.DB_PATH\n",
    "DATA_DIRECTORY = constants.DATA_DIRECTORY\n",
    "UNIT_TEST_DB_FILE_NAME = constants.UNIT_TEST_DB_FILE_NAME\n",
    "utils.map_city_tier(DB_FILE_NAME, DB_PATH, city_tier_mapping.city_tier_mapping)\n",
    "        \n",
    "print(\"initiating db connection\")\n",
    "conn = sqlite3.connect(os.path.join(DB_PATH, DB_FILE_NAME))\n",
    "print(\"initiating unit test db connection\")\n",
    "conn_test_db = sqlite3.connect(os.path.join(DB_PATH, UNIT_TEST_DB_FILE_NAME))\n",
    "\n",
    "# Load the output data from the actual database\n",
    "output_data = pd.read_sql_query(\"SELECT * FROM city_tier_mapped\", con=conn)\n",
    "\n",
    "# Load the test data from the test database\n",
    "test_data = pd.read_sql_query(\"SELECT * FROM city_tier_mapped_test_case\", con=conn_test_db)\n",
    "\n",
    "conn_test_db.close()\n",
    "conn.close()\n",
    " "
   ]
  },
  {
   "cell_type": "code",
   "execution_count": 14,
   "id": "14ff87bd",
   "metadata": {},
   "outputs": [
    {
     "data": {
      "text/plain": [
       "['city_mapped']"
      ]
     },
     "execution_count": 14,
     "metadata": {},
     "output_type": "execute_result"
    }
   ],
   "source": [
    "cols = []\n",
    "for col in output_data.columns:\n",
    "    if col not in test_data.columns:\n",
    "        cols.append(col)\n",
    "cols"
   ]
  },
  {
   "cell_type": "code",
   "execution_count": 8,
   "id": "843059d1",
   "metadata": {},
   "outputs": [
    {
     "data": {
      "text/plain": [
       "Index(['created_date', 'first_platform_c', 'first_utm_medium_c',\n",
       "       'first_utm_source_c', 'total_leads_droppped', 'referred_lead',\n",
       "       '1_on_1_industry_mentorship', 'call_us_button_clicked',\n",
       "       'career_assistance', 'career_coach', 'career_impact', 'careers',\n",
       "       'chat_clicked', 'companies', 'download_button_clicked',\n",
       "       'download_syllabus', 'emi_partner_click', 'emi_plans_clicked',\n",
       "       'fee_component_click', 'hiring_partners',\n",
       "       'homepage_upgrad_support_number_clicked',\n",
       "       'industry_projects_case_studies', 'live_chat_button_clicked',\n",
       "       'payment_amount_toggle_mover', 'placement_support',\n",
       "       'placement_support_banner_tab_clicked', 'program_structure',\n",
       "       'programme_curriculum', 'programme_faculty',\n",
       "       'request_callback_on_instant_customer_support_cta_clicked',\n",
       "       'shorts_entry_click', 'social_referral_click',\n",
       "       'specialisation_tab_clicked', 'specializations', 'specilization_click',\n",
       "       'syllabus', 'syllabus_expand', 'syllabus_submodule_expand',\n",
       "       'tab_career_assistance', 'tab_job_opportunities', 'tab_student_support',\n",
       "       'view_programs_page', 'whatsapp_chat_click', 'app_complete_flag',\n",
       "       'city_tier'],\n",
       "      dtype='object')"
      ]
     },
     "execution_count": 8,
     "metadata": {},
     "output_type": "execute_result"
    }
   ],
   "source": [
    "test_data.columns"
   ]
  },
  {
   "cell_type": "code",
   "execution_count": null,
   "id": "c3c650da",
   "metadata": {},
   "outputs": [],
   "source": []
  },
  {
   "cell_type": "code",
   "execution_count": null,
   "id": "75746520",
   "metadata": {},
   "outputs": [],
   "source": []
  }
 ],
 "metadata": {
  "kernelspec": {
   "display_name": "Python 3 (ipykernel)",
   "language": "python",
   "name": "python3"
  },
  "language_info": {
   "codemirror_mode": {
    "name": "ipython",
    "version": 3
   },
   "file_extension": ".py",
   "mimetype": "text/x-python",
   "name": "python",
   "nbconvert_exporter": "python",
   "pygments_lexer": "ipython3",
   "version": "3.9.7"
  }
 },
 "nbformat": 4,
 "nbformat_minor": 5
}
