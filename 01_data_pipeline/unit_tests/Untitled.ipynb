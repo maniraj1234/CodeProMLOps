{
 "cells": [
  {
   "cell_type": "code",
   "execution_count": 1,
   "id": "3dc67565",
   "metadata": {},
   "outputs": [],
   "source": [
    "\n",
    "import utils\n",
    "import constants\n",
    "import city_tier_mapping\n",
    "import significant_categorical_level"
   ]
  },
  {
   "cell_type": "code",
   "execution_count": 4,
   "id": "7979a7b4",
   "metadata": {},
   "outputs": [
    {
     "name": "stdout",
     "output_type": "stream",
     "text": [
      "initiating db connection\n",
      "initiating unit test db connection\n",
      "Test passed\n",
      "initiating db connection\n",
      "initiating unit test db connection\n",
      "Test passed\n",
      "initiating db connection\n",
      "initiating unit test db connection\n",
      "Test passed\n",
      "initiating db connection\n",
      "initiating unit test db connection\n",
      "Test passed\n"
     ]
    }
   ],
   "source": [
    "import constants\n",
    "import utils\n",
    "import test_with_pytest\n",
    "import importlib\n",
    "importlib.reload(test_with_pytest)\n",
    "importlib.reload(utils)\n",
    "DB_FILE_NAME = constants.DB_FILE_NAME\n",
    "DB_PATH = constants.DB_PATH\n",
    "DATA_DIRECTORY = constants.DATA_DIRECTORY\n",
    "UNIT_TEST_DB_FILE_NAME = constants.UNIT_TEST_DB_FILE_NAME\n",
    "\n",
    "test_with_pytest.test_load_data_into_db(DB_FILE_NAME, DB_PATH, UNIT_TEST_DB_FILE_NAME)\n",
    "test_with_pytest.test_map_city_tier(DB_FILE_NAME, DB_PATH, UNIT_TEST_DB_FILE_NAME)\n",
    "test_with_pytest.test_map_categorical_vars(DB_FILE_NAME, DB_PATH, UNIT_TEST_DB_FILE_NAME)\n",
    "test_with_pytest.test_interactions_mapping(DB_FILE_NAME, DB_PATH, UNIT_TEST_DB_FILE_NAME)\n",
    "\n"
   ]
  },
  {
   "cell_type": "code",
   "execution_count": null,
   "id": "c3c650da",
   "metadata": {},
   "outputs": [],
   "source": []
  },
  {
   "cell_type": "code",
   "execution_count": null,
   "id": "75746520",
   "metadata": {},
   "outputs": [],
   "source": []
  }
 ],
 "metadata": {
  "kernelspec": {
   "display_name": "Python 3 (ipykernel)",
   "language": "python",
   "name": "python3"
  },
  "language_info": {
   "codemirror_mode": {
    "name": "ipython",
    "version": 3
   },
   "file_extension": ".py",
   "mimetype": "text/x-python",
   "name": "python",
   "nbconvert_exporter": "python",
   "pygments_lexer": "ipython3",
   "version": "3.9.7"
  }
 },
 "nbformat": 4,
 "nbformat_minor": 5
}
