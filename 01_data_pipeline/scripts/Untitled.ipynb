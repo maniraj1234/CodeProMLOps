{
 "cells": [
  {
   "cell_type": "code",
   "execution_count": 6,
   "id": "7979a7b4",
   "metadata": {},
   "outputs": [
    {
     "name": "stdout",
     "output_type": "stream",
     "text": [
      "DB Already Exists\n",
      "running ---- raw_data_schema_check -----\n",
      "Raw datas schema is in line with the schema present in schema.py\n",
      "running ---- load_data_into_db -----\n",
      "running ---- map_city_tier -----\n",
      "running ---- map_categorical_vars -----\n",
      "running ---- interactions_mapping -----\n",
      "running ---- model_input_schema_check -----\n",
      "Models input schema is in line with the schema present in schema.py\n"
     ]
    }
   ],
   "source": [
    "import utils\n",
    "import constants\n",
    "from mapping import city_tier_mapping\n",
    "from mapping import significant_categorical_level\n",
    "import data_validation_checks\n",
    "import schema\n",
    "import importlib\n",
    "importlib.reload(data_validation_checks)\n",
    "import warnings\n",
    "warnings.filterwarnings(\"ignore\")\n",
    "DATA_DIRECTORY = constants.DATA_DIRECTORY\n",
    "DB_FILE_NAME = constants.DB_FILE_NAME\n",
    "DB_PATH = constants.DB_PATH\n",
    "DATA_DIRECTORY = constants.DATA_DIRECTORY\n",
    "city_tier_mapping = city_tier_mapping.city_tier_mapping\n",
    "list_platform = significant_categorical_level.list_platform\n",
    "list_medium = significant_categorical_level.list_medium\n",
    "list_source = significant_categorical_level.list_source\n",
    "\n",
    "INTERACTION_MAPPING = constants.INTERACTION_MAPPING\n",
    "INDEX_COLUMNS_TRAINING = constants.INDEX_COLUMNS_TRAINING\n",
    "INDEX_COLUMNS_INFERENCE = constants.INDEX_COLUMNS_INFERENCE\n",
    "NOT_FEATURES = constants.NOT_FEATURES\n",
    "utils.build_dbs(DB_FILE_NAME, DB_PATH)\n",
    "print(\"running ---- raw_data_schema_check -----\")\n",
    "data_validation_checks.raw_data_schema_check(DATA_DIRECTORY, schema.raw_data_schema)\n",
    "print(\"running ---- load_data_into_db -----\")\n",
    "utils.load_data_into_db(DB_FILE_NAME, DB_PATH, DATA_DIRECTORY)\n",
    "print(\"running ---- map_city_tier -----\")\n",
    "utils.map_city_tier(DB_FILE_NAME, DB_PATH, city_tier_mapping)\n",
    "print(\"running ---- map_categorical_vars -----\")\n",
    "utils.map_categorical_vars(DB_FILE_NAME, DB_PATH ,list_platform ,list_medium ,list_source)\n",
    "print(\"running ---- interactions_mapping -----\")\n",
    "utils.interactions_mapping(DB_FILE_NAME, DB_PATH, INTERACTION_MAPPING, INDEX_COLUMNS_TRAINING, INDEX_COLUMNS_INFERENCE, NOT_FEATURES)\n",
    "print(\"running ---- model_input_schema_check -----\")\n",
    "data_validation_checks.model_input_schema_check(DB_FILE_NAME=constants.DB_FILE_NAME, DB_PATH=constants.DB_PATH, model_input_schema=schema.model_input_schema)"
   ]
  },
  {
   "cell_type": "code",
   "execution_count": null,
   "id": "a56f4dd3",
   "metadata": {},
   "outputs": [],
   "source": []
  }
 ],
 "metadata": {
  "kernelspec": {
   "display_name": "Python 3 (ipykernel)",
   "language": "python",
   "name": "python3"
  },
  "language_info": {
   "codemirror_mode": {
    "name": "ipython",
    "version": 3
   },
   "file_extension": ".py",
   "mimetype": "text/x-python",
   "name": "python",
   "nbconvert_exporter": "python",
   "pygments_lexer": "ipython3",
   "version": "3.9.7"
  }
 },
 "nbformat": 4,
 "nbformat_minor": 5
}
