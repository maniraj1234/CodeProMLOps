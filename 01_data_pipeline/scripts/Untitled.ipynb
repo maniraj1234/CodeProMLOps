{
 "cells": [
  {
   "cell_type": "code",
   "execution_count": null,
   "id": "583116a2",
   "metadata": {},
   "outputs": [],
   "source": [
    "%cd /home/"
   ]
  },
  {
   "cell_type": "code",
   "execution_count": 10,
   "id": "4ebc9004",
   "metadata": {},
   "outputs": [
    {
     "data": {
      "text/plain": [
       "'c:\\\\Users\\\\mmadishetty\\\\Downloads\\\\Course\\\\Semester 3\\\\MLOps\\\\Assignment\\\\Assignment\\\\01_data_pipeline'"
      ]
     },
     "execution_count": 10,
     "metadata": {},
     "output_type": "execute_result"
    }
   ],
   "source": [
    "%pwd"
   ]
  },
  {
   "cell_type": "code",
   "execution_count": 3,
   "id": "58bccaf7",
   "metadata": {},
   "outputs": [
    {
     "name": "stdout",
     "output_type": "stream",
     "text": [
      "c:\\Users\\mmadishetty\\Downloads\\Course\\Semester 3\\MLOps\\Assignment\\Assignment\\01_data_pipeline\n"
     ]
    },
    {
     "data": {
      "text/plain": [
       "'c:\\\\Users\\\\mmadishetty\\\\Downloads\\\\Course\\\\Semester 3\\\\MLOps\\\\Assignment\\\\Assignment\\\\01_data_pipeline'"
      ]
     },
     "execution_count": 3,
     "metadata": {},
     "output_type": "execute_result"
    }
   ],
   "source": [
    "%cd ..\n",
    "%pwd"
   ]
  },
  {
   "cell_type": "code",
   "execution_count": 1,
   "id": "3dc67565",
   "metadata": {},
   "outputs": [],
   "source": [
    "\n",
    "import utils\n",
    "import constants\n",
    "import city_tier_mapping\n",
    "import significant_categorical_level"
   ]
  },
  {
   "cell_type": "code",
   "execution_count": 2,
   "id": "7979a7b4",
   "metadata": {},
   "outputs": [
    {
     "name": "stdout",
     "output_type": "stream",
     "text": [
      "DB Already Exists\n",
      "running ---- load_data_into_db -----\n"
     ]
    },
    {
     "name": "stderr",
     "output_type": "stream",
     "text": [
      "C:\\Users\\mmadishetty\\Anaconda3\\lib\\site-packages\\pandas\\core\\generic.py:2872: UserWarning: The spaces in these column names will not be changed. In pandas versions < 0.14, spaces were converted to underscores.\n",
      "  sql.to_sql(\n"
     ]
    },
    {
     "name": "stdout",
     "output_type": "stream",
     "text": [
      "running ---- map_city_tier -----\n",
      "running ---- map_categorical_vars -----\n",
      "running ---- interactions_mapping -----\n"
     ]
    }
   ],
   "source": [
    "DB_FILE_NAME = constants.DB_FILE_NAME\n",
    "DB_PATH = constants.DB_PATH\n",
    "DATA_DIRECTORY = constants.DATA_DIRECTORY\n",
    "city_tier_mapping = city_tier_mapping.city_tier_mapping\n",
    "list_platform = significant_categorical_level.list_platform\n",
    "list_medium = significant_categorical_level.list_medium\n",
    "list_source = significant_categorical_level.list_source\n",
    "\n",
    "INTERACTION_MAPPING = constants.INTERACTION_MAPPING\n",
    "INDEX_COLUMNS_TRAINING = constants.INDEX_COLUMNS_TRAINING\n",
    "INDEX_COLUMNS_INFERENCE = constants.INDEX_COLUMNS_INFERENCE\n",
    "NOT_FEATURES = constants.NOT_FEATURES\n",
    "utils.build_dbs(DB_FILE_NAME, DB_PATH)\n",
    "print(\"running ---- load_data_into_db -----\")\n",
    "utils.load_data_into_db(DB_FILE_NAME, DB_PATH, DATA_DIRECTORY)\n",
    "print(\"running ---- map_city_tier -----\")\n",
    "utils.map_city_tier(DB_FILE_NAME, DB_PATH, city_tier_mapping)\n",
    "print(\"running ---- map_categorical_vars -----\")\n",
    "utils.map_categorical_vars(DB_FILE_NAME, DB_PATH ,list_platform ,list_medium ,list_source)\n",
    "print(\"running ---- interactions_mapping -----\")\n",
    "utils.interactions_mapping(DB_FILE_NAME, DB_PATH, INTERACTION_MAPPING, INDEX_COLUMNS_TRAINING, INDEX_COLUMNS_INFERENCE, NOT_FEATURES)"
   ]
  },
  {
   "cell_type": "code",
   "execution_count": 10,
   "id": "2079cfcc",
   "metadata": {},
   "outputs": [],
   "source": [
    "import pandas as pd\n",
    "import os\n",
    "import logging\n",
    "import sqlite3\n",
    "from sqlite3 import Error\n",
    "import constants\n",
    "from os.path import isfile\n",
    "import city_tier_mapping\n",
    "import significant_categorical_level\n",
    "\n",
    "DB_FILE_NAME = constants.DB_FILE_NAME\n",
    "DB_PATH = constants.DB_PATH\n",
    "filename = os.path.join(DB_PATH, DB_FILE_NAME)\n",
    "\n",
    "INTERACTION_MAPPING = constants.INTERACTION_MAPPING\n",
    "INDEX_COLUMNS_TRAINING = constants.INDEX_COLUMNS_TRAINING\n",
    "INDEX_COLUMNS_INFERENCE = constants.INDEX_COLUMNS_INFERENCE\n",
    "NOT_FEATURES = constants.NOT_FEATURES\n",
    "interaction_mapping_pd = pd.read_csv(INTERACTION_MAPPING, index_col=[0])\n",
    "index_cols_train_dynamic = INDEX_COLUMNS_TRAINING\n",
    "\n",
    "conn = sqlite3.connect(filename)\n",
    "df = pd.read_sql_query('SELECT * FROM categorical_variables_mapped', conn)\n",
    "if 'app_complete_flag' not in df.columns:\n",
    "    df = df.drop('app_complete_flag', axis=1)\n",
    "df = pd.melt(df, id_vars=INDEX_COLUMNS_TRAINING, var_name='interaction_type', value_name='interaction_value')#pd.melt(df, id_vars=INDEX_COLUMNS_TRAINING, value_vars=interaction_mapping_pd.keys())\n",
    "df['interaction_value'] = df['interaction_value'].fillna(0)\n",
    "df = pd.merge(df, interaction_mapping_pd, on='interaction_type', how='left')\n",
    "df.drop(['interaction_type'], axis=1)\n",
    "df_pivot = df.pivot_table(\n",
    "        values='interaction_value', index=INDEX_COLUMNS_TRAINING, columns='interaction_mapping', aggfunc='sum')#df.pivot_table(index=INDEX_COLUMNS_TRAINING, columns='variable', values='value', aggfunc='first')\n",
    "df = df.reset_index()\n",
    "df = df.drop(NOT_FEATURES, axis=1)\n",
    "df.to_sql('interactions_mapped', conn, if_exists='replace', index=False)\n",
    "df.to_sql('model_input', conn, if_exists='replace', index=False)"
   ]
  },
  {
   "cell_type": "code",
   "execution_count": null,
   "id": "31e7a4e7",
   "metadata": {},
   "outputs": [],
   "source": []
  },
  {
   "cell_type": "code",
   "execution_count": null,
   "id": "967e051c",
   "metadata": {},
   "outputs": [],
   "source": [
    "\n",
    "except Error as e:\n",
    "    print(e)\n",
    "finally:\n",
    "    if conn:\n",
    "        conn.close()"
   ]
  }
 ],
 "metadata": {
  "kernelspec": {
   "display_name": "Python 3 (ipykernel)",
   "language": "python",
   "name": "python3"
  }
 },
 "nbformat": 4,
 "nbformat_minor": 5
}
